{
 "cells": [
  {
   "cell_type": "markdown",
   "id": "debdfe6f-d0ea-4032-8083-34a4df5df5f6",
   "metadata": {},
   "source": [
    "Creation of Array (1D,2D and Multidimensional Array)"
   ]
  },
  {
   "cell_type": "code",
   "execution_count": 3,
   "id": "40c7a6a1-5f5d-4f4c-95c1-ad312abe9c25",
   "metadata": {},
   "outputs": [],
   "source": [
    "#Exp no. : 05"
   ]
  },
  {
   "cell_type": "code",
   "execution_count": 7,
   "id": "633a647c-5c88-4f1a-8931-388995938ef2",
   "metadata": {},
   "outputs": [],
   "source": [
    "#Aim : Creation Of Array (1D,2D and Multidimensional Array) using numpy"
   ]
  },
  {
   "cell_type": "code",
   "execution_count": 9,
   "id": "899c77f9-89ed-46dc-b1a4-9ef7a687d9e5",
   "metadata": {},
   "outputs": [],
   "source": [
    "#Name : Taufiq Rafik Nagori\n",
    "#Roll no. : 77 (DS-B77)\n",
    "#Section : B \n",
    "#Subject : PE-I\n",
    "#Date : 03/08/24"
   ]
  },
  {
   "cell_type": "code",
   "execution_count": 11,
   "id": "f928a0ea-bd37-493a-b175-78c58b787ce3",
   "metadata": {},
   "outputs": [],
   "source": [
    "import numpy as np"
   ]
  },
  {
   "cell_type": "code",
   "execution_count": 13,
   "id": "5d7145fb-d527-42d6-a95c-70edb8ca13c8",
   "metadata": {},
   "outputs": [],
   "source": [
    "arr1=np.array([10,20,30,40,50])"
   ]
  },
  {
   "cell_type": "code",
   "execution_count": 15,
   "id": "34b4c713-5e67-41ea-b1b6-174d49dbaf53",
   "metadata": {},
   "outputs": [
    {
     "data": {
      "text/plain": [
       "array([10, 20, 30, 40, 50])"
      ]
     },
     "execution_count": 15,
     "metadata": {},
     "output_type": "execute_result"
    }
   ],
   "source": [
    "arr1"
   ]
  },
  {
   "cell_type": "code",
   "execution_count": 17,
   "id": "6007776c-5e5c-4b9b-b00b-67c82840c4ff",
   "metadata": {},
   "outputs": [],
   "source": [
    "arr2=np.array([[[10,20,30,40,50],[60,70,80,90,100]]])"
   ]
  },
  {
   "cell_type": "code",
   "execution_count": 19,
   "id": "e0b5e140-7968-49b1-88dd-e4235961474c",
   "metadata": {},
   "outputs": [
    {
     "data": {
      "text/plain": [
       "array([[[ 10,  20,  30,  40,  50],\n",
       "        [ 60,  70,  80,  90, 100]]])"
      ]
     },
     "execution_count": 19,
     "metadata": {},
     "output_type": "execute_result"
    }
   ],
   "source": [
    "arr2"
   ]
  },
  {
   "cell_type": "code",
   "execution_count": 21,
   "id": "f41eed51-4bb3-4bea-a41b-e87d941f3c56",
   "metadata": {},
   "outputs": [],
   "source": [
    "arr3=np.array([[10,20,30,40,50],[60,70,80,90,100],[15,25,35,45,55]])"
   ]
  },
  {
   "cell_type": "code",
   "execution_count": 23,
   "id": "40dfa083-a86e-4259-a920-bafa1d173eef",
   "metadata": {},
   "outputs": [
    {
     "data": {
      "text/plain": [
       "array([[ 10,  20,  30,  40,  50],\n",
       "       [ 60,  70,  80,  90, 100],\n",
       "       [ 15,  25,  35,  45,  55]])"
      ]
     },
     "execution_count": 23,
     "metadata": {},
     "output_type": "execute_result"
    }
   ],
   "source": [
    "arr3"
   ]
  },
  {
   "cell_type": "code",
   "execution_count": null,
   "id": "019a60df-dada-43c5-ac32-9e615faf4c1c",
   "metadata": {},
   "outputs": [],
   "source": []
  }
 ],
 "metadata": {
  "kernelspec": {
   "display_name": "Python 3 (ipykernel)",
   "language": "python",
   "name": "python3"
  },
  "language_info": {
   "codemirror_mode": {
    "name": "ipython",
    "version": 3
   },
   "file_extension": ".py",
   "mimetype": "text/x-python",
   "name": "python",
   "nbconvert_exporter": "python",
   "pygments_lexer": "ipython3",
   "version": "3.12.4"
  }
 },
 "nbformat": 4,
 "nbformat_minor": 5
}
