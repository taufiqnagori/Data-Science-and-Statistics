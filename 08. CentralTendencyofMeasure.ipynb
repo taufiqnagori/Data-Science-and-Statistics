{
 "cells": [
  {
   "cell_type": "markdown",
   "id": "4d7d7f95-6af0-4fe5-8089-3d624b3698bf",
   "metadata": {},
   "source": [
    "Central Tendency of Measures(Mean, Median,Mode)"
   ]
  },
  {
   "cell_type": "code",
   "execution_count": 2,
   "id": "8c066f2c-a106-4e22-9b87-9fd12e3104ae",
   "metadata": {},
   "outputs": [],
   "source": [
    "#Exp no. : 08"
   ]
  },
  {
   "cell_type": "code",
   "execution_count": 4,
   "id": "3589428c-40a8-47af-88b1-d01b981ebc66",
   "metadata": {},
   "outputs": [],
   "source": [
    "#Aim : To find Central Tendancy of measures (Mean, Median, Mode)"
   ]
  },
  {
   "cell_type": "code",
   "execution_count": 6,
   "id": "32bf3c12-cb73-42ef-bb27-12a977d1661d",
   "metadata": {},
   "outputs": [],
   "source": [
    "#Name : Taufiq Rafik Nagori\n",
    "#Roll no. : 77 (DS-B77)\n",
    "#Section : B \n",
    "#Subject : PE-I\n",
    "#Date : 09/09/2024"
   ]
  },
  {
   "cell_type": "code",
   "execution_count": 8,
   "id": "6651aee9-843f-4c30-b0a9-97f9be27b0a8",
   "metadata": {},
   "outputs": [
    {
     "data": {
      "text/plain": [
       "[22,\n",
       " 21,\n",
       " 20,\n",
       " 26,\n",
       " 25,\n",
       " 26,\n",
       " 21,\n",
       " 23,\n",
       " 27,\n",
       " 28,\n",
       " 19,\n",
       " 22,\n",
       " 20,\n",
       " 23,\n",
       " 21,\n",
       " 25,\n",
       " 24,\n",
       " 26,\n",
       " 23,\n",
       " 21,\n",
       " 21,\n",
       " 20,\n",
       " 23]"
      ]
     },
     "execution_count": 8,
     "metadata": {},
     "output_type": "execute_result"
    }
   ],
   "source": [
    "age=[22,21,20,26,25,26,21,23,27,28,19,22,20,23,21,25,24,26,23,21,21,20,23]\n",
    "age"
   ]
  },
  {
   "cell_type": "code",
   "execution_count": 10,
   "id": "7985074e-cf8b-4747-acdd-871b5624bb8f",
   "metadata": {},
   "outputs": [],
   "source": [
    "import statistics"
   ]
  },
  {
   "cell_type": "code",
   "execution_count": 12,
   "id": "210d200f-02e3-49b7-b1fc-c48683f592a9",
   "metadata": {},
   "outputs": [],
   "source": [
    "Mean=statistics.mean(age)"
   ]
  },
  {
   "cell_type": "code",
   "execution_count": 14,
   "id": "5a271106-f6d4-450d-839d-dd1ccbd5602a",
   "metadata": {},
   "outputs": [
    {
     "data": {
      "text/plain": [
       "22.91304347826087"
      ]
     },
     "execution_count": 14,
     "metadata": {},
     "output_type": "execute_result"
    }
   ],
   "source": [
    "Mean"
   ]
  },
  {
   "cell_type": "code",
   "execution_count": 16,
   "id": "b15946db-dfb7-4e95-9a85-d7c0b56d4a9f",
   "metadata": {},
   "outputs": [],
   "source": [
    "Median=statistics.median(age)"
   ]
  },
  {
   "cell_type": "code",
   "execution_count": 18,
   "id": "5fb13383-5721-4ed7-b984-026e2e7fe4ef",
   "metadata": {},
   "outputs": [
    {
     "data": {
      "text/plain": [
       "23"
      ]
     },
     "execution_count": 18,
     "metadata": {},
     "output_type": "execute_result"
    }
   ],
   "source": [
    "Median"
   ]
  },
  {
   "cell_type": "code",
   "execution_count": 20,
   "id": "6b8d2b0d-f579-4e13-ab0f-44f505a3f3cf",
   "metadata": {},
   "outputs": [],
   "source": [
    "Mode=statistics.mode(age)"
   ]
  },
  {
   "cell_type": "code",
   "execution_count": 22,
   "id": "2efd98e1-fa5a-45fd-ad2a-4da63b6bf55e",
   "metadata": {},
   "outputs": [
    {
     "data": {
      "text/plain": [
       "21"
      ]
     },
     "execution_count": 22,
     "metadata": {},
     "output_type": "execute_result"
    }
   ],
   "source": [
    "Mode"
   ]
  },
  {
   "cell_type": "code",
   "execution_count": null,
   "id": "8767d8bd-7d22-4c3a-ace4-444154fc9908",
   "metadata": {},
   "outputs": [],
   "source": []
  }
 ],
 "metadata": {
  "kernelspec": {
   "display_name": "Python 3 (ipykernel)",
   "language": "python",
   "name": "python3"
  },
  "language_info": {
   "codemirror_mode": {
    "name": "ipython",
    "version": 3
   },
   "file_extension": ".py",
   "mimetype": "text/x-python",
   "name": "python",
   "nbconvert_exporter": "python",
   "pygments_lexer": "ipython3",
   "version": "3.12.4"
  }
 },
 "nbformat": 4,
 "nbformat_minor": 5
}
